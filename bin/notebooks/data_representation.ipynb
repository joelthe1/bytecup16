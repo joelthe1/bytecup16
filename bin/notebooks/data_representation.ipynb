{
 "cells": [
  {
   "cell_type": "code",
   "execution_count": 16,
   "metadata": {
    "collapsed": false
   },
   "outputs": [
    {
     "name": "stdout",
     "output_type": "stream",
     "text": [
      "The autoreload extension is already loaded. To reload it, use:\n",
      "  %reload_ext autoreload\n"
     ]
    }
   ],
   "source": [
    "%load_ext autoreload\n",
    "%autoreload 2\n",
    "import numpy as np\n",
    "import pandas as pd\n",
    "import sys\n",
    "import copy\n",
    "\n",
    "question_path = \"bytecup2016data/question_info.txt\"\n",
    "user_path = \"bytecup2016data/user_info.txt\"\n",
    "invited_info_path = \"bytecup2016data/invited_info_train.txt\"\n",
    "\n",
    "q_column_names = ['q_id', 'q_tag', 'q_word_seq', 'q_char_seq', 'q_no_upvotes', 'q_no_answers', 'q_no_quality_answers']\n",
    "u_column_names = ['u_id','e_expert_tags', 'e_desc_word_seq', 'e_desc_char_seq']\n",
    "train_info_column_names = ['q_id','u_id','answered']\n",
    "\n",
    "question_dataframe = pd.read_csv(question_path, names=q_column_names, sep = '\\t')\n",
    "user_dataframe = pd.read_csv(user_path, names = u_column_names, sep = '\\t')\n",
    "train_info_dataframe = pd.read_csv(invited_info_path, names = train_info_column_names, sep = '\\t')"
   ]
  },
  {
   "cell_type": "code",
   "execution_count": 17,
   "metadata": {
    "collapsed": false
   },
   "outputs": [
    {
     "name": "stdout",
     "output_type": "stream",
     "text": [
      "Size of the word vocabulary : 37811\n",
      "Size of the char vocabulary : 4024\n",
      "(1, 37811)\n",
      "(1, 4024)\n"
     ]
    }
   ],
   "source": [
    "from sklearn.feature_extraction.text import CountVectorizer\n",
    "\n",
    "all_word_desc_list = question_dataframe['q_word_seq'].tolist() + user_dataframe['e_desc_word_seq'].tolist()\n",
    "all_char_desc_list = question_dataframe['q_char_seq'].tolist() + user_dataframe['e_desc_char_seq'].tolist()\n",
    "\n",
    "word_vocabulary = set([word for sent in all_word_desc_list for word in str(sent).split('/')])\n",
    "#possible inconsistency in the data ---- char seq np.nan found !\n",
    "char_vocabulary = set([char for sent in all_char_desc_list for char in str(sent).split('/')])\n",
    "print \"Size of the word vocabulary :\", len(word_vocabulary)\n",
    "print \"Size of the char vocabulary :\", len(char_vocabulary)\n",
    "\n",
    "cv_word = CountVectorizer(vocabulary=word_vocabulary)\n",
    "cv_char= CountVectorizer(vocabulary=char_vocabulary)\n",
    "test_question_word_seq = '284 21 285 286 323223'\n",
    "test_question_char_seq = '373 155 33 34 374 25 113 73'\n",
    "print cv_word.fit_transform([test_question_word_seq]).shape\n",
    "print cv_char.fit_transform([test_question_char_seq]).shape"
   ]
  },
  {
   "cell_type": "code",
   "execution_count": null,
   "metadata": {
    "collapsed": true
   },
   "outputs": [],
   "source": []
  }
 ],
 "metadata": {
  "kernelspec": {
   "display_name": "Python [Root]",
   "language": "python",
   "name": "Python [Root]"
  },
  "language_info": {
   "codemirror_mode": {
    "name": "ipython",
    "version": 2
   },
   "file_extension": ".py",
   "mimetype": "text/x-python",
   "name": "python",
   "nbconvert_exporter": "python",
   "pygments_lexer": "ipython2",
   "version": "2.7.12"
  }
 },
 "nbformat": 4,
 "nbformat_minor": 0
}
