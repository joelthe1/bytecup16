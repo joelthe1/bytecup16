{
 "cells": [
  {
   "cell_type": "code",
   "execution_count": 13,
   "metadata": {
    "collapsed": false
   },
   "outputs": [
    {
     "name": "stdout",
     "output_type": "stream",
     "text": [
      "The autoreload extension is already loaded. To reload it, use:\n",
      "  %reload_ext autoreload\n"
     ]
    }
   ],
   "source": [
    "%load_ext autoreload\n",
    "%autoreload 2\n",
    "import numpy as np\n",
    "import pandas as pd\n",
    "import sys\n",
    "import copy\n",
    "\n",
    "question_path = \"bytecup2016data/question_info.txt\"\n",
    "user_path = \"bytecup2016data/user_info.txt\"\n",
    "invited_info_path = \"bytecup2016data/invited_info_train.txt\"\n",
    "\n",
    "q_column_names = ['q_id', 'q_tag', 'q_word_seq', 'q_char_seq', 'q_no_upvotes', 'q_no_answers', 'q_no_quality_answers']\n",
    "u_column_names = ['u_id','e_expert_tags', 'e_desc_word_seq', 'e_desc_char_seq']\n",
    "train_info_column_names = ['q_id','u_id','answered']\n",
    "\n",
    "question_dataframe = pd.read_csv(question_path, names=q_column_names, sep = '\\t')\n",
    "user_dataframe = pd.read_csv(user_path, names = u_column_names, sep = '\\t')\n",
    "train_info_dataframe = pd.read_csv(invited_info_path, names = train_info_column_names, sep = '\\t')"
   ]
  },
  {
   "cell_type": "code",
   "execution_count": 14,
   "metadata": {
    "collapsed": false
   },
   "outputs": [
    {
     "name": "stdout",
     "output_type": "stream",
     "text": [
      "Size of the word vocabulary : 37811\n",
      "Size of the char vocabulary : 4023\n",
      "Number of topics :  143\n",
      "(1, 37811)\n",
      "(1, 4023)\n"
     ]
    }
   ],
   "source": [
    "from sklearn.feature_extraction.text import CountVectorizer\n",
    "\n",
    "all_word_desc_list = question_dataframe['q_word_seq'].tolist() + user_dataframe['e_desc_word_seq'].tolist()\n",
    "all_char_desc_list = question_dataframe['q_char_seq'].tolist() + user_dataframe['e_desc_char_seq'].tolist()\n",
    "all_topics_list = question_dataframe['q_tag'].tolist() + user_dataframe['e_expert_tags'].tolist()\n",
    "\n",
    "word_vocabulary = set([word for sent in all_word_desc_list for word in str(sent).split('/')])\n",
    "#possible inconsistency in the data ---- char seq np.nan found !\n",
    "char_vocabulary = set([char for sent in all_char_desc_list for char in str(sent).split('/')])\n",
    "topic_vocabulary = set([char for sent in all_topics_list for char in str(sent).split('/')])\n",
    "print \"Size of the word vocabulary :\", len(word_vocabulary)\n",
    "print \"Size of the char vocabulary :\", len(char_vocabulary)\n",
    "print \"Number of topics : \", len(topic_vocabulary)\n",
    "\n",
    "cv_word = CountVectorizer(vocabulary=word_vocabulary, token_pattern=u'(?u)\\\\b\\\\w+\\\\b')\n",
    "cv_char= CountVectorizer(vocabulary=char_vocabulary, token_pattern=u'(?u)\\\\b\\\\w+\\\\b')\n",
    "cv_topic = CountVectorizer(vocabulary=topic_vocabulary, token_pattern=u'(?u)\\\\b\\\\w+\\\\b')\n",
    "\n",
    "test_question_word_seq = '284 21 285 286 323223'\n",
    "test_question_char_seq = '373 155 33 34 374 25 113 73'\n",
    "print cv_word.fit_transform([test_question_word_seq]).shape\n",
    "print cv_char.fit_transform([test_question_char_seq]).shape"
   ]
  },
  {
   "cell_type": "code",
   "execution_count": 225,
   "metadata": {
    "collapsed": false
   },
   "outputs": [],
   "source": []
  },
  {
   "cell_type": "code",
   "execution_count": 15,
   "metadata": {
    "collapsed": false
   },
   "outputs": [],
   "source": [
    "from scipy.sparse import csr_matrix, hstack, vstack"
   ]
  },
  {
   "cell_type": "code",
   "execution_count": 16,
   "metadata": {
    "collapsed": false
   },
   "outputs": [],
   "source": [
    "q_dict = dict()"
   ]
  },
  {
   "cell_type": "code",
   "execution_count": 17,
   "metadata": {
    "collapsed": false
   },
   "outputs": [],
   "source": [
    "for idx, entry in question_dataframe.iterrows():\n",
    "    q_dict[entry['q_id']] = csr_matrix(hstack([cv_word.fit_transform([\" \".join(entry['q_word_seq'].split('/'))]), [entry['q_tag']]]))"
   ]
  },
  {
   "cell_type": "code",
   "execution_count": 18,
   "metadata": {
    "collapsed": false
   },
   "outputs": [],
   "source": [
    "u_dict = dict()"
   ]
  },
  {
   "cell_type": "code",
   "execution_count": 19,
   "metadata": {
    "collapsed": false
   },
   "outputs": [],
   "source": [
    "for idx, entry in user_dataframe.iterrows():\n",
    "    u_dict[entry['u_id']] = csr_matrix(hstack([cv_word.fit_transform([\" \".join(entry['e_desc_word_seq'].split('/'))]), cv_topic.fit_transform([\" \".join(entry['e_expert_tags'].split('/'))])]))"
   ]
  },
  {
   "cell_type": "code",
   "execution_count": 20,
   "metadata": {
    "collapsed": false
   },
   "outputs": [
    {
     "data": {
      "text/plain": [
       "28763"
      ]
     },
     "execution_count": 20,
     "metadata": {},
     "output_type": "execute_result"
    }
   ],
   "source": [
    "len(u_dict)"
   ]
  },
  {
   "cell_type": "code",
   "execution_count": 21,
   "metadata": {
    "collapsed": false
   },
   "outputs": [],
   "source": [
    "X = list()\n",
    "tempX = list()\n",
    "y = list()"
   ]
  },
  {
   "cell_type": "code",
   "execution_count": 22,
   "metadata": {
    "collapsed": false
   },
   "outputs": [],
   "source": [
    "for idx, entry in train_info_dataframe.iterrows():\n",
    "    tempX.append(csr_matrix(hstack([q_dict[entry['q_id']], u_dict[entry['u_id']]])))\n",
    "    y.append(entry['answered'])"
   ]
  },
  {
   "cell_type": "code",
   "execution_count": 23,
   "metadata": {
    "collapsed": false
   },
   "outputs": [],
   "source": [
    "X = csr_matrix(vstack(tempX))"
   ]
  },
  {
   "cell_type": "code",
   "execution_count": 24,
   "metadata": {
    "collapsed": false
   },
   "outputs": [
    {
     "data": {
      "text/plain": [
       "<245752x75766 sparse matrix of type '<type 'numpy.int64'>'\n",
       "\twith 4700037 stored elements in Compressed Sparse Row format>"
      ]
     },
     "execution_count": 24,
     "metadata": {},
     "output_type": "execute_result"
    }
   ],
   "source": [
    "X"
   ]
  },
  {
   "cell_type": "code",
   "execution_count": 25,
   "metadata": {
    "collapsed": true
   },
   "outputs": [],
   "source": [
    "from sklearn.naive_bayes import GaussianNB"
   ]
  },
  {
   "cell_type": "code",
   "execution_count": 26,
   "metadata": {
    "collapsed": true
   },
   "outputs": [],
   "source": [
    "gnb = GaussianNB()"
   ]
  },
  {
   "cell_type": "code",
   "execution_count": null,
   "metadata": {
    "collapsed": false
   },
   "outputs": [],
   "source": [
    "gnb_model = gnb.fit(csr_matrix(X).toarray(), y)"
   ]
  },
  {
   "cell_type": "code",
   "execution_count": null,
   "metadata": {
    "collapsed": true
   },
   "outputs": [],
   "source": []
  }
 ],
 "metadata": {
  "kernelspec": {
   "display_name": "Python 2",
   "language": "python",
   "name": "python2"
  },
  "language_info": {
   "codemirror_mode": {
    "name": "ipython",
    "version": 2
   },
   "file_extension": ".py",
   "mimetype": "text/x-python",
   "name": "python",
   "nbconvert_exporter": "python",
   "pygments_lexer": "ipython2",
   "version": "2.7.11"
  }
 },
 "nbformat": 4,
 "nbformat_minor": 0
}
