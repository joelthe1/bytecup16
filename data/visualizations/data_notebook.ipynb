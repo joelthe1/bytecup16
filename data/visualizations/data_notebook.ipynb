{
 "cells": [
  {
   "cell_type": "code",
   "execution_count": 1,
   "metadata": {
    "collapsed": false
   },
   "outputs": [
    {
     "name": "stdout",
     "output_type": "stream",
     "text": [
      "This non-commercial license of GraphLab Create for academic use is assigned to joelmath@usc.edu and will expire on September 14, 2017.\n"
     ]
    },
    {
     "name": "stderr",
     "output_type": "stream",
     "text": [
      "[INFO] graphlab.cython.cy_server: GraphLab Create v2.1 started. Logging: /tmp/graphlab_server_1473901798.log\n"
     ]
    },
    {
     "data": {
      "text/html": [
       "<pre>Finished parsing file /home/joel/Documents/sem3/ml/proj/bytecup2016data/user_info.txt</pre>"
      ],
      "text/plain": [
       "Finished parsing file /home/joel/Documents/sem3/ml/proj/bytecup2016data/user_info.txt"
      ]
     },
     "metadata": {},
     "output_type": "display_data"
    },
    {
     "data": {
      "text/html": [
       "<pre>Parsing completed. Parsed 28763 lines in 0.603639 secs.</pre>"
      ],
      "text/plain": [
       "Parsing completed. Parsed 28763 lines in 0.603639 secs."
      ]
     },
     "metadata": {},
     "output_type": "display_data"
    },
    {
     "name": "stdout",
     "output_type": "stream",
     "text": [
      "Canvas is accessible via web browser at the URL: http://localhost:35454/index.html\n",
      "Opening Canvas in default web browser.\n"
     ]
    }
   ],
   "source": [
    "import graphlab as gl\n",
    "user_data = gl.SFrame.read_csv(\"/home/joel/Documents/sem3/ml/proj/bytecup2016data/user_info.txt\",\n",
    "                                header=False,\n",
    "                                delimiter='\\t',\n",
    "                                column_type_hints=str)\n",
    "user_data.rename({'X1':'expert_id', 'X2':'domain_of_expertise', 'X3':'desc_in_words', 'X4':'desc_in_chars'})\n",
    "user_data\n",
    "user_data.show()"
   ]
  },
  {
   "cell_type": "code",
   "execution_count": null,
   "metadata": {
    "collapsed": true
   },
   "outputs": [],
   "source": []
  }
 ],
 "metadata": {
  "kernelspec": {
   "display_name": "Python [proj_env_1]",
   "language": "python",
   "name": "Python [proj_env_1]"
  },
  "language_info": {
   "codemirror_mode": {
    "name": "ipython",
    "version": 2
   },
   "file_extension": ".py",
   "mimetype": "text/x-python",
   "name": "python",
   "nbconvert_exporter": "python",
   "pygments_lexer": "ipython2",
   "version": "2.7.12"
  },
  "widgets": {
   "state": {},
   "version": "1.0.0"
  }
 },
 "nbformat": 4,
 "nbformat_minor": 0
}
